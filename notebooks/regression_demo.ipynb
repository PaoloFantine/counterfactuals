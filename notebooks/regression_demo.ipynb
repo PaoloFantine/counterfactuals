{
 "cells": [
  {
   "cell_type": "code",
   "execution_count": 1,
   "id": "1dbe5879",
   "metadata": {},
   "outputs": [],
   "source": [
    "import sys\n",
    "from pathlib import Path\n",
    "import joblib\n",
    "import json\n",
    "\n",
    "PROJECT_ROOT = Path().resolve().parent\n",
    "if str(PROJECT_ROOT) not in sys.path:\n",
    "    sys.path.insert(0, str(PROJECT_ROOT))\n",
    "\n",
    "from src import load_dataset, Counterfactuals"
   ]
  },
  {
   "cell_type": "code",
   "execution_count": 2,
   "id": "1564de2d",
   "metadata": {},
   "outputs": [
    {
     "name": "stdout",
     "output_type": "stream",
     "text": [
      "{'AveBedrms': 'Average number of bedrooms per household',\n",
      " 'AveOccup': 'Average house occupancy (household size)',\n",
      " 'AveRooms': 'Average number of rooms per household',\n",
      " 'HouseAge': 'Median house age in block group',\n",
      " 'Latitude': 'Block group latitude',\n",
      " 'Longitude': 'Block group longitude',\n",
      " 'MedInc': 'Median income in block group',\n",
      " 'Population': 'Block group population',\n",
      " 'target': 'MedHouseVal, Median house value in 100k USD'}\n"
     ]
    }
   ],
   "source": [
    "X, y = load_dataset(\"california_housing\", preprocess=True, include_description=True)"
   ]
  },
  {
   "cell_type": "code",
   "execution_count": 3,
   "id": "777482c4",
   "metadata": {},
   "outputs": [],
   "source": [
    "ARTIFACT_DIR = Path(\"../artifacts\")\n",
    "ARTIFACT_DIR.mkdir(exist_ok=True)\n",
    "\n",
    "model = joblib.load(ARTIFACT_DIR / \"xgboost_regressor.pkl\")"
   ]
  },
  {
   "cell_type": "code",
   "execution_count": 4,
   "id": "0d2e7165",
   "metadata": {},
   "outputs": [],
   "source": [
    "instance = X.iloc[0:1].copy()\n",
    "instance_outcome = y.iloc[0:1]\n",
    "instance.loc[:, 'outcome'] = instance_outcome.values"
   ]
  },
  {
   "cell_type": "code",
   "execution_count": 5,
   "id": "f9ea2a8f",
   "metadata": {},
   "outputs": [
    {
     "data": {
      "text/html": [
       "<div>\n",
       "<style scoped>\n",
       "    .dataframe tbody tr th:only-of-type {\n",
       "        vertical-align: middle;\n",
       "    }\n",
       "\n",
       "    .dataframe tbody tr th {\n",
       "        vertical-align: top;\n",
       "    }\n",
       "\n",
       "    .dataframe thead th {\n",
       "        text-align: right;\n",
       "    }\n",
       "</style>\n",
       "<table border=\"1\" class=\"dataframe\">\n",
       "  <thead>\n",
       "    <tr style=\"text-align: right;\">\n",
       "      <th></th>\n",
       "      <th>MedInc</th>\n",
       "      <th>HouseAge</th>\n",
       "      <th>AveRooms</th>\n",
       "      <th>AveBedrms</th>\n",
       "      <th>Population</th>\n",
       "      <th>AveOccup</th>\n",
       "      <th>Latitude</th>\n",
       "      <th>Longitude</th>\n",
       "      <th>outcome</th>\n",
       "    </tr>\n",
       "  </thead>\n",
       "  <tbody>\n",
       "    <tr>\n",
       "      <th>0</th>\n",
       "      <td>8.3252</td>\n",
       "      <td>41.0</td>\n",
       "      <td>6.984127</td>\n",
       "      <td>1.02381</td>\n",
       "      <td>322.0</td>\n",
       "      <td>2.555556</td>\n",
       "      <td>37.88</td>\n",
       "      <td>-122.23</td>\n",
       "      <td>4.526</td>\n",
       "    </tr>\n",
       "  </tbody>\n",
       "</table>\n",
       "</div>"
      ],
      "text/plain": [
       "   MedInc  HouseAge  AveRooms  AveBedrms  Population  AveOccup  Latitude  \\\n",
       "0  8.3252      41.0  6.984127    1.02381       322.0  2.555556     37.88   \n",
       "\n",
       "   Longitude  outcome  \n",
       "0    -122.23    4.526  "
      ]
     },
     "execution_count": 5,
     "metadata": {},
     "output_type": "execute_result"
    }
   ],
   "source": [
    "instance"
   ]
  },
  {
   "cell_type": "code",
   "execution_count": 6,
   "id": "a66620f5",
   "metadata": {},
   "outputs": [],
   "source": [
    "cf = Counterfactuals(X=X, y=y, model=model)"
   ]
  },
  {
   "cell_type": "code",
   "execution_count": 7,
   "id": "9b2b730d",
   "metadata": {},
   "outputs": [
    {
     "name": "stdout",
     "output_type": "stream",
     "text": [
      "Generation 6; counterfactuals found: 10/5\n"
     ]
    }
   ],
   "source": [
    "genetic = cf.get_counterfactuals(instance, 5, \"genetic\", lower_limit=1.6, upper_limit=2)"
   ]
  },
  {
   "cell_type": "code",
   "execution_count": 11,
   "id": "af55cc27",
   "metadata": {},
   "outputs": [],
   "source": [
    "prototypes = cf.get_counterfactuals(instance, 5, \"prototypes\", lower_limit=1.6, upper_limit=2)"
   ]
  },
  {
   "cell_type": "code",
   "execution_count": 9,
   "id": "909d51d0",
   "metadata": {},
   "outputs": [
    {
     "data": {
      "text/html": [
       "<div>\n",
       "<style scoped>\n",
       "    .dataframe tbody tr th:only-of-type {\n",
       "        vertical-align: middle;\n",
       "    }\n",
       "\n",
       "    .dataframe tbody tr th {\n",
       "        vertical-align: top;\n",
       "    }\n",
       "\n",
       "    .dataframe thead th {\n",
       "        text-align: right;\n",
       "    }\n",
       "</style>\n",
       "<table border=\"1\" class=\"dataframe\">\n",
       "  <thead>\n",
       "    <tr style=\"text-align: right;\">\n",
       "      <th></th>\n",
       "      <th>MedInc</th>\n",
       "      <th>HouseAge</th>\n",
       "      <th>AveRooms</th>\n",
       "      <th>AveBedrms</th>\n",
       "      <th>Population</th>\n",
       "      <th>AveOccup</th>\n",
       "      <th>Latitude</th>\n",
       "      <th>Longitude</th>\n",
       "      <th>outcome</th>\n",
       "    </tr>\n",
       "  </thead>\n",
       "  <tbody>\n",
       "    <tr>\n",
       "      <th>0</th>\n",
       "      <td>2.254448</td>\n",
       "      <td>41.000000</td>\n",
       "      <td>6.984127</td>\n",
       "      <td>1.02381</td>\n",
       "      <td>322.000000</td>\n",
       "      <td>2.555556</td>\n",
       "      <td>37.880000</td>\n",
       "      <td>-122.230000</td>\n",
       "      <td>1.961538</td>\n",
       "    </tr>\n",
       "    <tr>\n",
       "      <th>1</th>\n",
       "      <td>4.978753</td>\n",
       "      <td>37.846316</td>\n",
       "      <td>6.651624</td>\n",
       "      <td>1.02381</td>\n",
       "      <td>1923.844071</td>\n",
       "      <td>12.865296</td>\n",
       "      <td>45.792134</td>\n",
       "      <td>-162.284905</td>\n",
       "      <td>1.805433</td>\n",
       "    </tr>\n",
       "    <tr>\n",
       "      <th>2</th>\n",
       "      <td>1.050407</td>\n",
       "      <td>41.000000</td>\n",
       "      <td>6.984127</td>\n",
       "      <td>1.02381</td>\n",
       "      <td>322.000000</td>\n",
       "      <td>2.555556</td>\n",
       "      <td>37.880000</td>\n",
       "      <td>-122.230000</td>\n",
       "      <td>1.737393</td>\n",
       "    </tr>\n",
       "    <tr>\n",
       "      <th>3</th>\n",
       "      <td>4.687804</td>\n",
       "      <td>41.000000</td>\n",
       "      <td>6.984127</td>\n",
       "      <td>1.02381</td>\n",
       "      <td>322.000000</td>\n",
       "      <td>2.555556</td>\n",
       "      <td>69.517539</td>\n",
       "      <td>-122.230000</td>\n",
       "      <td>1.631226</td>\n",
       "    </tr>\n",
       "    <tr>\n",
       "      <th>4</th>\n",
       "      <td>1.164060</td>\n",
       "      <td>41.000000</td>\n",
       "      <td>6.984127</td>\n",
       "      <td>1.02381</td>\n",
       "      <td>322.000000</td>\n",
       "      <td>2.555556</td>\n",
       "      <td>37.880000</td>\n",
       "      <td>-122.230000</td>\n",
       "      <td>1.746060</td>\n",
       "    </tr>\n",
       "  </tbody>\n",
       "</table>\n",
       "</div>"
      ],
      "text/plain": [
       "     MedInc   HouseAge  AveRooms  AveBedrms   Population   AveOccup  \\\n",
       "0  2.254448  41.000000  6.984127    1.02381   322.000000   2.555556   \n",
       "1  4.978753  37.846316  6.651624    1.02381  1923.844071  12.865296   \n",
       "2  1.050407  41.000000  6.984127    1.02381   322.000000   2.555556   \n",
       "3  4.687804  41.000000  6.984127    1.02381   322.000000   2.555556   \n",
       "4  1.164060  41.000000  6.984127    1.02381   322.000000   2.555556   \n",
       "\n",
       "    Latitude   Longitude   outcome  \n",
       "0  37.880000 -122.230000  1.961538  \n",
       "1  45.792134 -162.284905  1.805433  \n",
       "2  37.880000 -122.230000  1.737393  \n",
       "3  69.517539 -122.230000  1.631226  \n",
       "4  37.880000 -122.230000  1.746060  "
      ]
     },
     "execution_count": 9,
     "metadata": {},
     "output_type": "execute_result"
    }
   ],
   "source": [
    "genetic"
   ]
  },
  {
   "cell_type": "code",
   "execution_count": 12,
   "id": "ebe71a69",
   "metadata": {},
   "outputs": [
    {
     "data": {
      "text/html": [
       "<div>\n",
       "<style scoped>\n",
       "    .dataframe tbody tr th:only-of-type {\n",
       "        vertical-align: middle;\n",
       "    }\n",
       "\n",
       "    .dataframe tbody tr th {\n",
       "        vertical-align: top;\n",
       "    }\n",
       "\n",
       "    .dataframe thead th {\n",
       "        text-align: right;\n",
       "    }\n",
       "</style>\n",
       "<table border=\"1\" class=\"dataframe\">\n",
       "  <thead>\n",
       "    <tr style=\"text-align: right;\">\n",
       "      <th></th>\n",
       "      <th>MedInc</th>\n",
       "      <th>HouseAge</th>\n",
       "      <th>AveRooms</th>\n",
       "      <th>AveBedrms</th>\n",
       "      <th>Population</th>\n",
       "      <th>AveOccup</th>\n",
       "      <th>Latitude</th>\n",
       "      <th>Longitude</th>\n",
       "      <th>outcome</th>\n",
       "    </tr>\n",
       "  </thead>\n",
       "  <tbody>\n",
       "    <tr>\n",
       "      <th>19529</th>\n",
       "      <td>7.3841</td>\n",
       "      <td>40.0</td>\n",
       "      <td>6.698413</td>\n",
       "      <td>1.000000</td>\n",
       "      <td>158.0</td>\n",
       "      <td>2.507937</td>\n",
       "      <td>37.65</td>\n",
       "      <td>-120.98</td>\n",
       "      <td>1.722</td>\n",
       "    </tr>\n",
       "    <tr>\n",
       "      <th>357</th>\n",
       "      <td>6.0749</td>\n",
       "      <td>39.0</td>\n",
       "      <td>6.751852</td>\n",
       "      <td>1.059259</td>\n",
       "      <td>763.0</td>\n",
       "      <td>2.825926</td>\n",
       "      <td>37.76</td>\n",
       "      <td>-122.15</td>\n",
       "      <td>1.969</td>\n",
       "    </tr>\n",
       "    <tr>\n",
       "      <th>1370</th>\n",
       "      <td>5.1265</td>\n",
       "      <td>40.0</td>\n",
       "      <td>6.498195</td>\n",
       "      <td>1.046931</td>\n",
       "      <td>761.0</td>\n",
       "      <td>2.747292</td>\n",
       "      <td>38.02</td>\n",
       "      <td>-122.16</td>\n",
       "      <td>1.961</td>\n",
       "    </tr>\n",
       "    <tr>\n",
       "      <th>791</th>\n",
       "      <td>5.7309</td>\n",
       "      <td>36.0</td>\n",
       "      <td>4.938053</td>\n",
       "      <td>0.880531</td>\n",
       "      <td>662.0</td>\n",
       "      <td>2.929204</td>\n",
       "      <td>37.64</td>\n",
       "      <td>-122.08</td>\n",
       "      <td>1.779</td>\n",
       "    </tr>\n",
       "    <tr>\n",
       "      <th>1404</th>\n",
       "      <td>5.0445</td>\n",
       "      <td>37.0</td>\n",
       "      <td>6.273196</td>\n",
       "      <td>1.025773</td>\n",
       "      <td>552.0</td>\n",
       "      <td>2.845361</td>\n",
       "      <td>37.96</td>\n",
       "      <td>-122.07</td>\n",
       "      <td>1.962</td>\n",
       "    </tr>\n",
       "  </tbody>\n",
       "</table>\n",
       "</div>"
      ],
      "text/plain": [
       "       MedInc  HouseAge  AveRooms  AveBedrms  Population  AveOccup  Latitude  \\\n",
       "19529  7.3841      40.0  6.698413   1.000000       158.0  2.507937     37.65   \n",
       "357    6.0749      39.0  6.751852   1.059259       763.0  2.825926     37.76   \n",
       "1370   5.1265      40.0  6.498195   1.046931       761.0  2.747292     38.02   \n",
       "791    5.7309      36.0  4.938053   0.880531       662.0  2.929204     37.64   \n",
       "1404   5.0445      37.0  6.273196   1.025773       552.0  2.845361     37.96   \n",
       "\n",
       "       Longitude  outcome  \n",
       "19529    -120.98    1.722  \n",
       "357      -122.15    1.969  \n",
       "1370     -122.16    1.961  \n",
       "791      -122.08    1.779  \n",
       "1404     -122.07    1.962  "
      ]
     },
     "execution_count": 12,
     "metadata": {},
     "output_type": "execute_result"
    }
   ],
   "source": [
    "prototypes"
   ]
  },
  {
   "cell_type": "code",
   "execution_count": null,
   "id": "a9a80c4d",
   "metadata": {},
   "outputs": [],
   "source": []
  }
 ],
 "metadata": {
  "kernelspec": {
   "display_name": "counterfactuals",
   "language": "python",
   "name": "python3"
  },
  "language_info": {
   "codemirror_mode": {
    "name": "ipython",
    "version": 3
   },
   "file_extension": ".py",
   "mimetype": "text/x-python",
   "name": "python",
   "nbconvert_exporter": "python",
   "pygments_lexer": "ipython3",
   "version": "3.11.6"
  }
 },
 "nbformat": 4,
 "nbformat_minor": 5
}
